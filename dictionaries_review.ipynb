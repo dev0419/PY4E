{
 "cells": [
  {
   "cell_type": "code",
   "execution_count": 3,
   "metadata": {},
   "outputs": [
    {
     "name": "stdout",
     "output_type": "stream",
     "text": [
      "{'money': 100, 'candy': 3, 'tissues': 75}\n",
      "3\n",
      "{'money': 200, 'candy': 5, 'tissues': 275}\n"
     ]
    }
   ],
   "source": [
    "purse = dict()\n",
    "purse['money'] = 100\n",
    "purse['candy'] = 3\n",
    "purse['tissues'] = 75\n",
    "print(purse)\n",
    "print(purse['candy'])\n",
    "purse['candy'] += 2\n",
    "purse['money'] += 100\n",
    "purse['tissues'] += 200\n",
    "print(purse)"
   ]
  },
  {
   "cell_type": "code",
   "execution_count": 4,
   "metadata": {},
   "outputs": [
    {
     "name": "stdout",
     "output_type": "stream",
     "text": [
      "{'chk': 1, 'fred': 2, 'jan': 100}\n",
      "{}\n"
     ]
    }
   ],
   "source": [
    "d = {'chk' : 1, 'fred' : 2, 'jan' : 100}\n",
    "print(d)\n",
    "o = {}\n",
    "print(o)"
   ]
  },
  {
   "cell_type": "code",
   "execution_count": 6,
   "metadata": {},
   "outputs": [
    {
     "name": "stdout",
     "output_type": "stream",
     "text": [
      "{'csev': 1, 'cwen': 1}\n"
     ]
    }
   ],
   "source": [
    "c = dict()\n",
    "c['csev'] = 1\n",
    "c['cwen'] = 1\n",
    "print(c)\n"
   ]
  },
  {
   "cell_type": "code",
   "execution_count": 21,
   "metadata": {},
   "outputs": [
    {
     "name": "stdout",
     "output_type": "stream",
     "text": [
      "{'csev': 2, 'cwen': 2, 'zqian': 1}\n",
      "2\n"
     ]
    }
   ],
   "source": [
    "counts = dict()\n",
    "names = ['csev', 'cwen', 'csev', 'zqian', 'cwen']\n",
    "for name in names:\n",
    "    if name not in counts:\n",
    "        counts[name] = 1\n",
    "    else:\n",
    "        counts[name] += 1\n",
    "print(counts)\n",
    "\n",
    "x = counts.get(name,0)\n",
    "print(x)"
   ]
  },
  {
   "cell_type": "code",
   "execution_count": 22,
   "metadata": {},
   "outputs": [
    {
     "name": "stdout",
     "output_type": "stream",
     "text": [
      "{'csev': 2, 'cwen': 2, 'zqian': 1}\n"
     ]
    }
   ],
   "source": [
    "counts = dict()\n",
    "names = ['csev', 'cwen', 'csev', 'zqian', 'cwen']\n",
    "for name in names:\n",
    "    counts[name] = counts.get(name,0) + 1\n",
    "print(counts)\n",
    "    "
   ]
  },
  {
   "cell_type": "code",
   "execution_count": 25,
   "metadata": {},
   "outputs": [
    {
     "name": "stdout",
     "output_type": "stream",
     "text": [
      "Enter the line of text:\n"
     ]
    },
    {
     "name": "stdout",
     "output_type": "stream",
     "text": [
      "Words:  ['the', 'clown', 'ran', 'after', 'the', 'car', 'and', 'the', 'car', 'ran', 'into', 'the', 'tent', 'and', 'the', 'tent', 'fell', 'down', 'on', 'the', 'clown', 'and', 'the', 'car']\n",
      "Counts {'csev': 2, 'cwen': 2, 'zqian': 1, 'world': 1, 'tour': 1, 'is': 1, 'amazing': 1, 'the': 14, 'clown': 4, 'ran': 4, 'after': 2, 'car': 6, 'and': 6, 'into': 2, 'tent': 4, 'fell': 2, 'down': 2, 'on': 2}\n"
     ]
    }
   ],
   "source": [
    "count = dict()\n",
    "print('Enter the line of text:')\n",
    "line = input('')\n",
    "\n",
    "words = line.split()\n",
    "print('Words: ', words)\n",
    "for word in words:\n",
    "    counts[word] = counts.get(word,0) + 1\n",
    "print('Counts',counts)"
   ]
  },
  {
   "cell_type": "code",
   "execution_count": 7,
   "metadata": {},
   "outputs": [
    {
     "name": "stdout",
     "output_type": "stream",
     "text": [
      "words ['That', 'if', 'I', \"can't\", 'be', 'close', 'to', 'you', \"I'll\", 'settle', 'for', 'the', 'ghost', 'of', 'you', 'I', 'miss', 'you', 'more', 'than', 'life', '(more', 'than', 'life)', 'And', 'if', 'you', \"can't\", 'be', 'next', 'to', 'me', 'Your', 'memory', 'is', 'ecstasy', 'I', 'miss', 'you', 'more', 'than', 'life', 'I', 'miss', 'you', 'more', 'than', 'life']\n",
      "count:  {'benny': 1, 'justin': 1, 'peter': 1, 'charlie': 1, 'joshua': 1, 'sam': 1, 'What': 1, 'if': 1, 'you': 1, 'had': 1, 'it': 1, 'all': 1, 'but': 1, 'nobody': 1, 'to': 1, 'call': 1, 'maybe': 1, 'then': 1, \"you'd\": 1, 'know': 1, 'me': 1, 'causse': 1, 'I': 1, 'have': 1, 'everything': 1, 'no': 1, \"one's\": 1, 'listening': 1, \"that's\": 1, 'just': 1, 'fucking': 1, 'lonely': 1, 'That': 1, \"can't\": 1, 'be': 1, 'close': 1, \"I'll\": 1, 'settle': 1, 'for': 1, 'the': 1, 'ghost': 1, 'of': 1, 'miss': 1, 'more': 1, 'than': 1, 'life': 1, '(more': 1, 'life)': 1, 'And': 1, 'next': 1, 'Your': 1, 'memory': 1, 'is': 1, 'ecstasy': 1}\n"
     ]
    }
   ],
   "source": [
    "count = dict()\n",
    "line = input(\"Enter a sentence : \")\n",
    "words = line.split()\n",
    "print('words',words)\n",
    "for word in words:\n",
    "    counts[word] = count.get(word,0)  + 1\n",
    "print('count: ',counts)\n"
   ]
  },
  {
   "cell_type": "code",
   "execution_count": 10,
   "metadata": {},
   "outputs": [
    {
     "name": "stdout",
     "output_type": "stream",
     "text": [
      "brand nike\n",
      "model  air max\n",
      "color white\n"
     ]
    }
   ],
   "source": [
    "shoe = {'brand' : 'nike', 'model ' : 'air max','color' : 'white'}\n",
    "shoe.items()\n",
    "for i,j in shoe.items():\n",
    "    print(i,j)"
   ]
  },
  {
   "cell_type": "code",
   "execution_count": 3,
   "metadata": {},
   "outputs": [
    {
     "name": "stdout",
     "output_type": "stream",
     "text": [
      "{'but': 1, 'soft': 1, 'what': 1, 'light': 1, 'through': 1, 'yonder': 1, 'window': 1, 'breaks': 1, 'it': 1, 'is': 3, 'the': 3, 'east': 1, 'and': 3, 'juliet': 1, 'sun': 2, 'arise': 1, 'fair': 1, 'kill': 1, 'envious': 1, 'moon': 1, 'who': 1, 'already': 1, 'sick': 1, 'pale': 1, 'with': 1, 'grief': 1}\n"
     ]
    }
   ],
   "source": [
    "import string\n",
    "\n",
    "fname = input('Enter the file name: ')\n",
    "try:\n",
    "    fhand = open(fname)\n",
    "except:\n",
    "    print('File cannot be opened:', fname)\n",
    "    exit()\n",
    "\n",
    "counts = dict()\n",
    "for line in fhand:\n",
    "    line = line.rstrip()\n",
    "    line = line.translate(line.maketrans('', '', string.punctuation))\n",
    "    line = line.lower()\n",
    "    words = line.split()\n",
    "    for word in words:\n",
    "        if word not in counts:\n",
    "            counts[word] = 1\n",
    "        else:\n",
    "            counts[word] += 1\n",
    "\n",
    "print(counts)\n"
   ]
  },
  {
   "cell_type": "code",
   "execution_count": 6,
   "metadata": {},
   "outputs": [
    {
     "name": "stdout",
     "output_type": "stream",
     "text": [
      "o\n",
      "e\n",
      "t\n",
      "n\n",
      ":\n",
      "0\n",
      "o\n",
      "e\n",
      "o\n",
      "u\n",
      "i\n",
      "n\n",
      ":\n",
      "0\n",
      "o\n",
      "u\n",
      "o\n",
      "i\n",
      "i\n",
      "n\n",
      ":\n",
      "0\n",
      "o\n",
      "i\n",
      "o\n",
      "l\n",
      "i\n",
      "n\n",
      ":\n",
      "0\n",
      "o\n",
      "l\n",
      "o\n",
      "i\n",
      "i\n",
      "n\n",
      ":\n",
      "0\n",
      "o\n",
      "i\n",
      "o\n",
      "l\n",
      "i\n",
      "n\n",
      ":\n",
      "0\n",
      "o\n",
      "l\n",
      "o\n",
      "e\n",
      "i\n",
      "n\n",
      ":\n",
      "0\n",
      "o\n",
      "e\n",
      "o\n",
      "e\n",
      "i\n",
      "n\n",
      ":\n",
      "0\n",
      "o\n",
      "e\n",
      "o\n",
      "i\n",
      "i\n",
      "n\n",
      ":\n",
      "0\n",
      "o\n",
      "i\n",
      "o\n",
      "i\n",
      "i\n",
      "n\n",
      ":\n",
      "0\n",
      "o\n",
      "i\n",
      "o\n",
      "i\n",
      "i\n",
      "n\n",
      ":\n",
      "0\n",
      "o\n",
      "i\n",
      "o\n",
      "i\n",
      "i\n",
      "n\n",
      ":\n",
      "0\n",
      "o\n",
      "i\n",
      "o\n",
      "g\n",
      "i\n",
      "n\n",
      ":\n",
      "0\n",
      "o\n",
      "g\n",
      "o\n",
      "i\n",
      "i\n",
      "n\n",
      ":\n",
      "0\n",
      "o\n",
      "i\n",
      "o\n",
      "t\n",
      "i\n",
      "n\n",
      ":\n",
      "0\n",
      "o\n",
      "t\n",
      "o\n",
      "p\n",
      "i\n",
      "n\n",
      ":\n",
      "0\n",
      "o\n",
      "p\n",
      "o\n",
      "v\n",
      "i\n",
      "n\n",
      ":\n",
      "0\n",
      "o\n",
      "v\n",
      "o\n",
      "v\n",
      "i\n",
      "n\n",
      ":\n",
      "0\n",
      "o\n",
      "v\n",
      "o\n",
      "v\n",
      "i\n",
      "n\n",
      ":\n",
      "0\n",
      "o\n",
      "v\n",
      "o\n",
      "v\n",
      "i\n",
      "n\n",
      ":\n",
      "0\n",
      "o\n",
      "v\n",
      "o\n",
      "e\n",
      "i\n",
      "n\n",
      ":\n",
      "0\n",
      "o\n",
      "e\n",
      "o\n",
      "u\n",
      "u\n",
      "n\n",
      ":\n",
      "0\n",
      "o\n",
      "u\n",
      "o\n",
      "u\n",
      "u\n",
      "n\n",
      ":\n",
      "0\n",
      "o\n",
      "u\n",
      "o\n",
      "y\n",
      "u\n",
      "n\n",
      ":\n",
      "0\n",
      "o\n",
      "y\n",
      "o\n",
      "e\n",
      "u\n",
      "n\n",
      ":\n",
      "0\n",
      "o\n",
      "e\n",
      "o\n",
      "e\n",
      "u\n",
      "n\n",
      ":\n",
      "0\n",
      "o\n",
      "e\n",
      "o\n",
      "e\n",
      "u\n",
      "n\n",
      ":\n",
      "0\n",
      "o\n",
      "e\n",
      "{'From': 27, 'stephen.marquard@uct.ac.za': 4, 'Sat': 1, 'Jan': 27, '09:14:16': 1, '2008': 27, 'From:': 27, 'louis@media.berkeley.edu': 6, 'Fri': 20, '18:10:48': 1, 'zqian@umich.edu': 8, '16:10:39': 1, 'rjlowe@iupui.edu': 4, '15:46:24': 1, '15:03:18': 1, '14:50:18': 1, 'cwen@iupui.edu': 10, '11:37:30': 1, '11:35:08': 1, 'gsilver@umich.edu': 6, '11:12:37': 1, '11:11:52': 1, '11:11:03': 1, '11:10:22': 1, 'wagnermr@iupui.edu': 2, '10:38:42': 1, '10:17:43': 1, 'antranig@caret.cam.ac.uk': 2, '10:04:14': 1, 'gopal.ramasammycook@gmail.com': 2, '09:05:31': 1, 'david.horwitz@uct.ac.za': 8, '07:02:32': 1, '06:08:27': 1, '04:49:08': 1, '04:33:44': 1, '04:07:34': 1, 'Thu': 6, '19:51:21': 1, '17:18:23': 1, 'ray@media.berkeley.edu': 2, '17:07:00': 1, '16:34:40': 1, '16:29:07': 1, '16:23:48': 1}\n"
     ]
    }
   ],
   "source": [
    "'''Exercise 2: Write a program that categorizes each mail message by which day of the week the commit was done. \n",
    "To do this look for lines that start with “From”, \n",
    "then look for the third word and keep a running count of each of the days of the week.\n",
    " At the end of the program print out the contents of your dictionary (order does not matter).'''\n",
    "\n",
    "fhand = open('mbox-short.txt')\n",
    "counts = dict()\n",
    "for line in fhand:\n",
    "    if line.startswith(\"From\"):\n",
    "        words = line.split()\n",
    "        for word in words:\n",
    "            if len(word) >= 2:\n",
    "                counts[word] = counts.get(word,0) + 1\n",
    "print(counts)\n",
    "            \n",
    "            \n",
    "        \n",
    "    "
   ]
  }
 ],
 "metadata": {
  "kernelspec": {
   "display_name": "Python 3",
   "language": "python",
   "name": "python3"
  },
  "language_info": {
   "codemirror_mode": {
    "name": "ipython",
    "version": 3
   },
   "file_extension": ".py",
   "mimetype": "text/x-python",
   "name": "python",
   "nbconvert_exporter": "python",
   "pygments_lexer": "ipython3",
   "version": "3.10.11"
  },
  "orig_nbformat": 4
 },
 "nbformat": 4,
 "nbformat_minor": 2
}
