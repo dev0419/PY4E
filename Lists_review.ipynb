{
 "cells": [
  {
   "cell_type": "code",
   "execution_count": 4,
   "metadata": {},
   "outputs": [
    {
     "name": "stdout",
     "output_type": "stream",
     "text": [
      "1\n",
      "23\n",
      "yellow\n",
      "[9, 0]\n",
      "['banana', 0, '_']\n"
     ]
    }
   ],
   "source": [
    "ls = [1,23,'yellow',[9,0],['banana',0,'_']]\n",
    "for i in ls:\n",
    "    print(i)"
   ]
  },
  {
   "cell_type": "code",
   "execution_count": 5,
   "metadata": {},
   "outputs": [
    {
     "name": "stdout",
     "output_type": "stream",
     "text": [
      "9\n",
      "8\n",
      "2\n",
      "1\n"
     ]
    }
   ],
   "source": [
    "ls =  [9,8,2,1]\n",
    "for i in ls:\n",
    "    print(i)"
   ]
  },
  {
   "cell_type": "code",
   "execution_count": 12,
   "metadata": {},
   "outputs": [
    {
     "name": "stdout",
     "output_type": "stream",
     "text": [
      "mango\n"
     ]
    },
    {
     "data": {
      "text/plain": [
       "[2, 10, 26, 19, 63]"
      ]
     },
     "execution_count": 12,
     "metadata": {},
     "output_type": "execute_result"
    }
   ],
   "source": [
    "fruit = 'Mango'\n",
    "x = fruit.lower()\n",
    "print(x)\n",
    "lotto = [2,10,26,41,63]\n",
    "lotto[3] = 19\n",
    "lotto"
   ]
  },
  {
   "cell_type": "code",
   "execution_count": 21,
   "metadata": {},
   "outputs": [
    {
     "name": "stdout",
     "output_type": "stream",
     "text": [
      "3\n",
      "range(0, 3)\n"
     ]
    }
   ],
   "source": [
    "friends = ['josh','justin','pooh bear']\n",
    "print(len(friends))\n",
    "print(range(len(friends)))\n"
   ]
  },
  {
   "cell_type": "code",
   "execution_count": 23,
   "metadata": {},
   "outputs": [
    {
     "name": "stdout",
     "output_type": "stream",
     "text": [
      "Happy birthday:  josh\n",
      "Happy birthday:  justin\n",
      "Happy birthday:  pooh bear\n",
      "Happy birthday:  josh\n",
      "Happy birthday:  justin\n",
      "Happy birthday:  pooh bear\n"
     ]
    }
   ],
   "source": [
    "friends = ['josh','justin','pooh bear']\n",
    "for friend in friends:\n",
    "    print('Happy birthday: ',friend)\n",
    "\n",
    "for i in range(len(friends)):\n",
    "    friend = friends[i]\n",
    "    print('Happy birthday: ',friend)"
   ]
  },
  {
   "cell_type": "code",
   "execution_count": 1,
   "metadata": {},
   "outputs": [
    {
     "name": "stdout",
     "output_type": "stream",
     "text": [
      "['honda', 'ducati', 'harley-davidson']\n",
      "harley-davidson\n",
      "['honda', 'ducati', 'yamaha', 'suzuki']\n"
     ]
    },
    {
     "data": {
      "text/plain": [
       "['honda', 'suzuki', 'suzuki']"
      ]
     },
     "execution_count": 1,
     "metadata": {},
     "output_type": "execute_result"
    }
   ],
   "source": [
    "motorcycles = list()\n",
    "motorcycles.append('honda')\n",
    "motorcycles.append('harley-davidson')\n",
    "motorcycles.insert(1,'ducati')\n",
    "print(motorcycles)\n",
    "x = motorcycles.pop()\n",
    "print(x)\n",
    "motorcycles.append('yamaha')\n",
    "motorcycles.append('suzuki')\n",
    "print(motorcycles)\n",
    "motorcycles.pop(2)\n",
    "motorcycles.append('yamaha')\n",
    "motorcycles.append('suzuki')\n",
    "motorcycles.remove('yamaha')\n",
    "del motorcycles[1]\n",
    "motorcycles.sort()\n",
    "motorcycles"
   ]
  },
  {
   "cell_type": "code",
   "execution_count": 4,
   "metadata": {},
   "outputs": [
    {
     "name": "stdout",
     "output_type": "stream",
     "text": [
      "10\n",
      "41\n",
      "1\n",
      "9.2\n"
     ]
    }
   ],
   "source": [
    "nums = [3,2,1,41,5,6,7,8,9,10]\n",
    "print(len(nums))\n",
    "print(max(nums))\n",
    "print(min(nums))\n",
    "print(sum(nums) / len(nums))"
   ]
  },
  {
   "cell_type": "code",
   "execution_count": 7,
   "metadata": {},
   "outputs": [
    {
     "name": "stdout",
     "output_type": "stream",
     "text": [
      "Average:  27.0\n"
     ]
    }
   ],
   "source": [
    "nums = list()\n",
    "while True:\n",
    "    ele = input(\"Enter a number: \")\n",
    "    if ele == 'done':\n",
    "        break\n",
    "    val = float(ele)\n",
    "    nums.append(val)\n",
    "avg = sum(nums)\n",
    "print('Average: ',avg)\n"
   ]
  },
  {
   "cell_type": "code",
   "execution_count": 12,
   "metadata": {},
   "outputs": [
    {
     "name": "stdout",
     "output_type": "stream",
     "text": [
      "0\n",
      "1\n",
      "2\n",
      "3\n",
      "4\n",
      "5\n",
      "6\n",
      "7\n",
      "8\n"
     ]
    },
    {
     "data": {
      "text/plain": [
       "[2, 4, 6, 8, 10]"
      ]
     },
     "execution_count": 12,
     "metadata": {},
     "output_type": "execute_result"
    }
   ],
   "source": [
    "for i in range(0,9):\n",
    "    print(i)\n",
    "\n",
    "num = list(range(1,6))\n",
    "nums = list(range(2,11,2))\n",
    "nums"
   ]
  },
  {
   "cell_type": "code",
   "execution_count": 16,
   "metadata": {},
   "outputs": [
    {
     "name": "stdout",
     "output_type": "stream",
     "text": [
      "[1, 4, 9, 16, 25, 36, 49, 64, 81, 100]\n"
     ]
    }
   ],
   "source": [
    "squares = []\n",
    "for val in range(1,11):\n",
    "    square = val**2\n",
    "    squares.append(square)\n",
    "print(squares) "
   ]
  },
  {
   "cell_type": "code",
   "execution_count": 17,
   "metadata": {},
   "outputs": [
    {
     "name": "stdout",
     "output_type": "stream",
     "text": [
      "[1, 4, 9, 16, 25, 36, 49, 64, 81, 100]\n"
     ]
    }
   ],
   "source": [
    "squares = [val**2 for val in range(1,11)]\n",
    "print(squares)"
   ]
  },
  {
   "cell_type": "code",
   "execution_count": 19,
   "metadata": {},
   "outputs": [
    {
     "name": "stdout",
     "output_type": "stream",
     "text": [
      "['with', 'three', 'words']\n",
      "with\n",
      "three\n",
      "words\n"
     ]
    }
   ],
   "source": [
    "abc =  'with three words'\n",
    "stuff = abc.split()\n",
    "print(stuff)\n",
    "for word in stuff:\n",
    "    print(word)"
   ]
  },
  {
   "cell_type": "code",
   "execution_count": 28,
   "metadata": {},
   "outputs": [
    {
     "name": "stdout",
     "output_type": "stream",
     "text": [
      "['first,second,third']\n",
      "1\n",
      "['first', 'second', 'third']\n",
      "3\n"
     ]
    }
   ],
   "source": [
    "line = 'A lot'\n",
    "etc = line.split()\n",
    "etc\n",
    "\n",
    "line = 'first,second,third'\n",
    "thing = line.split()\n",
    "print(thing)\n",
    "print(len(thing))\n",
    "\n",
    "thing = line.split(',')\n",
    "print(thing)\n",
    "print(len(thing))\n"
   ]
  },
  {
   "cell_type": "code",
   "execution_count": 31,
   "metadata": {},
   "outputs": [
    {
     "name": "stdout",
     "output_type": "stream",
     "text": [
      "Sat\n",
      "Fri\n",
      "Fri\n",
      "Fri\n",
      "Fri\n",
      "Fri\n",
      "Fri\n",
      "Fri\n",
      "Fri\n",
      "Fri\n",
      "Fri\n",
      "Fri\n",
      "Fri\n",
      "Fri\n",
      "Fri\n",
      "Fri\n",
      "Fri\n",
      "Fri\n",
      "Fri\n",
      "Fri\n",
      "Fri\n",
      "Thu\n",
      "Thu\n",
      "Thu\n",
      "Thu\n",
      "Thu\n",
      "Thu\n"
     ]
    }
   ],
   "source": [
    "fhand = open('mbox-short.txt')\n",
    "for line in fhand:\n",
    "    line = line.rstrip()\n",
    "    if not line.startswith('From '): \n",
    "        continue\n",
    "    words = line.split()\n",
    "    print(words[2])"
   ]
  },
  {
   "cell_type": "code",
   "execution_count": 36,
   "metadata": {},
   "outputs": [
    {
     "name": "stdout",
     "output_type": "stream",
     "text": [
      "['From', 'stephen.marquard@uct.ac.za', 'Sat', 'Jan', '5', '09:14:16', '2008']\n",
      "stephen.marquard@uct.ac.za\n",
      "['stephen.marquard', 'uct.ac.za']\n"
     ]
    }
   ],
   "source": [
    "line = 'From stephen.marquard@uct.ac.za Sat Jan  5 09:14:16 2008'\n",
    "words = line.split()\n",
    "print(words)\n",
    "email = words[1]\n",
    "print(email)\n",
    "piece = email.split('@')\n",
    "print(piece)"
   ]
  },
  {
   "attachments": {},
   "cell_type": "markdown",
   "metadata": {},
   "source": [
    "Exercise 1: Write a function called chop that takes a list and modifies\n",
    "it, removing the first and last elements, and returns None. Then write\n",
    "a function called middle that takes a list and returns a new list that\n",
    "contains all but the first and last elements."
   ]
  },
  {
   "cell_type": "code",
   "execution_count": 41,
   "metadata": {},
   "outputs": [
    {
     "name": "stdout",
     "output_type": "stream",
     "text": [
      "None\n",
      "[2, 3]\n"
     ]
    }
   ],
   "source": [
    "def chop(ls):\n",
    "    x = ls.pop(0)\n",
    "    y = ls.pop(-1)\n",
    "    return None\n",
    "\n",
    "def middle(ls):\n",
    "    new = ls[1:]\n",
    "    del new[-1]\n",
    "    return new\n",
    "\n",
    "ls = [1,2,3,4]\n",
    "ls2 = [1,2,3,4]\n",
    "\n",
    "chop_ls = chop(ls)\n",
    "print(chop_ls)\n",
    "\n",
    "mid_list = middle(ls2)\n",
    "print(mid_list)\n"
   ]
  },
  {
   "attachments": {},
   "cell_type": "markdown",
   "metadata": {},
   "source": [
    "Create a list of unique words, which will contain the final result. Write\n",
    "a program to open the file romeo.txt and read it line by line. For each line, split the line into a list of words using the split function. For\n",
    "each word, check to see if the word is already in the list of unique\n",
    "words. If the word is not in the list of unique words, add it to the list.\n",
    "When the program completes, sort and print the list of unique words\n",
    "in alphabetical order."
   ]
  },
  {
   "cell_type": "code",
   "execution_count": 50,
   "metadata": {},
   "outputs": [
    {
     "name": "stdout",
     "output_type": "stream",
     "text": [
      "['But', 'soft', 'what', 'light', 'through', 'yonder', 'window', 'breaks']\n",
      "['It', 'is', 'the', 'east', 'and', 'Juliet', 'is', 'the', 'sun']\n",
      "['Arise', 'fair', 'sun', 'and', 'kill', 'the', 'envious', 'moon']\n",
      "['Who', 'is', 'already', 'sick', 'and', 'pale', 'with', 'grief']\n",
      "['Arise', 'But', 'It', 'Juliet', 'Who', 'already', 'and', 'breaks', 'east', 'envious', 'fair', 'grief', 'is', 'kill', 'light', 'moon', 'pale', 'sick', 'soft', 'sun', 'the', 'through', 'what', 'window', 'with', 'yonder']\n"
     ]
    }
   ],
   "source": [
    "fhand = open('romeo.txt')\n",
    "ls = []\n",
    "for line in fhand:\n",
    "    words = line.split()\n",
    "    print(words)\n",
    "    for word in words:\n",
    "        if word not in ls:\n",
    "            ls.append(word)\n",
    "ls.sort()\n",
    "print(ls)\n"
   ]
  },
  {
   "attachments": {},
   "cell_type": "markdown",
   "metadata": {},
   "source": [
    "Write a program to read through the mail box data and when you find\n",
    "line that starts with “From”, you will split the line into words using the\n",
    "split function. We are interested in who sent the message, which is the\n",
    "second word on the From line.\n",
    "From stephen.marquard@uct.ac.za Sat Jan 5 09:14:16 2008\n",
    "You will parse the From line and print out the second word for each\n",
    "From line, then you will also count the number of From (not From:)\n",
    "lines and print out a count at the end."
   ]
  },
  {
   "cell_type": "code",
   "execution_count": null,
   "metadata": {},
   "outputs": [],
   "source": [
    "fhand = open('mbox.txt')\n",
    "\n"
   ]
  }
 ],
 "metadata": {
  "kernelspec": {
   "display_name": "Python 3",
   "language": "python",
   "name": "python3"
  },
  "language_info": {
   "codemirror_mode": {
    "name": "ipython",
    "version": 3
   },
   "file_extension": ".py",
   "mimetype": "text/x-python",
   "name": "python",
   "nbconvert_exporter": "python",
   "pygments_lexer": "ipython3",
   "version": "3.10.11"
  },
  "orig_nbformat": 4
 },
 "nbformat": 4,
 "nbformat_minor": 2
}
